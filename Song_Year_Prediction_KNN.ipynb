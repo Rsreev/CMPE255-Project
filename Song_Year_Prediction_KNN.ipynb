{
 "cells": [
  {
   "cell_type": "code",
   "execution_count": 1,
   "id": "cfe678ce",
   "metadata": {},
   "outputs": [
    {
     "data": {
      "text/html": [
       "<div>\n",
       "<style scoped>\n",
       "    .dataframe tbody tr th:only-of-type {\n",
       "        vertical-align: middle;\n",
       "    }\n",
       "\n",
       "    .dataframe tbody tr th {\n",
       "        vertical-align: top;\n",
       "    }\n",
       "\n",
       "    .dataframe thead th {\n",
       "        text-align: right;\n",
       "    }\n",
       "</style>\n",
       "<table border=\"1\" class=\"dataframe\">\n",
       "  <thead>\n",
       "    <tr style=\"text-align: right;\">\n",
       "      <th></th>\n",
       "      <th>0</th>\n",
       "      <th>1</th>\n",
       "      <th>2</th>\n",
       "      <th>3</th>\n",
       "      <th>4</th>\n",
       "      <th>5</th>\n",
       "      <th>6</th>\n",
       "      <th>7</th>\n",
       "      <th>8</th>\n",
       "      <th>9</th>\n",
       "      <th>...</th>\n",
       "      <th>81</th>\n",
       "      <th>82</th>\n",
       "      <th>83</th>\n",
       "      <th>84</th>\n",
       "      <th>85</th>\n",
       "      <th>86</th>\n",
       "      <th>87</th>\n",
       "      <th>88</th>\n",
       "      <th>89</th>\n",
       "      <th>90</th>\n",
       "    </tr>\n",
       "  </thead>\n",
       "  <tbody>\n",
       "    <tr>\n",
       "      <th>0</th>\n",
       "      <td>2001</td>\n",
       "      <td>49.94357</td>\n",
       "      <td>21.47114</td>\n",
       "      <td>73.07750</td>\n",
       "      <td>8.74861</td>\n",
       "      <td>-17.40628</td>\n",
       "      <td>-13.09905</td>\n",
       "      <td>-25.01202</td>\n",
       "      <td>-12.23257</td>\n",
       "      <td>7.83089</td>\n",
       "      <td>...</td>\n",
       "      <td>13.01620</td>\n",
       "      <td>-54.40548</td>\n",
       "      <td>58.99367</td>\n",
       "      <td>15.37344</td>\n",
       "      <td>1.11144</td>\n",
       "      <td>-23.08793</td>\n",
       "      <td>68.40795</td>\n",
       "      <td>-1.82223</td>\n",
       "      <td>-27.46348</td>\n",
       "      <td>2.26327</td>\n",
       "    </tr>\n",
       "    <tr>\n",
       "      <th>1</th>\n",
       "      <td>2001</td>\n",
       "      <td>48.73215</td>\n",
       "      <td>18.42930</td>\n",
       "      <td>70.32679</td>\n",
       "      <td>12.94636</td>\n",
       "      <td>-10.32437</td>\n",
       "      <td>-24.83777</td>\n",
       "      <td>8.76630</td>\n",
       "      <td>-0.92019</td>\n",
       "      <td>18.76548</td>\n",
       "      <td>...</td>\n",
       "      <td>5.66812</td>\n",
       "      <td>-19.68073</td>\n",
       "      <td>33.04964</td>\n",
       "      <td>42.87836</td>\n",
       "      <td>-9.90378</td>\n",
       "      <td>-32.22788</td>\n",
       "      <td>70.49388</td>\n",
       "      <td>12.04941</td>\n",
       "      <td>58.43453</td>\n",
       "      <td>26.92061</td>\n",
       "    </tr>\n",
       "    <tr>\n",
       "      <th>2</th>\n",
       "      <td>2001</td>\n",
       "      <td>50.95714</td>\n",
       "      <td>31.85602</td>\n",
       "      <td>55.81851</td>\n",
       "      <td>13.41693</td>\n",
       "      <td>-6.57898</td>\n",
       "      <td>-18.54940</td>\n",
       "      <td>-3.27872</td>\n",
       "      <td>-2.35035</td>\n",
       "      <td>16.07017</td>\n",
       "      <td>...</td>\n",
       "      <td>3.03800</td>\n",
       "      <td>26.05866</td>\n",
       "      <td>-50.92779</td>\n",
       "      <td>10.93792</td>\n",
       "      <td>-0.07568</td>\n",
       "      <td>43.20130</td>\n",
       "      <td>-115.00698</td>\n",
       "      <td>-0.05859</td>\n",
       "      <td>39.67068</td>\n",
       "      <td>-0.66345</td>\n",
       "    </tr>\n",
       "    <tr>\n",
       "      <th>3</th>\n",
       "      <td>2001</td>\n",
       "      <td>48.24750</td>\n",
       "      <td>-1.89837</td>\n",
       "      <td>36.29772</td>\n",
       "      <td>2.58776</td>\n",
       "      <td>0.97170</td>\n",
       "      <td>-26.21683</td>\n",
       "      <td>5.05097</td>\n",
       "      <td>-10.34124</td>\n",
       "      <td>3.55005</td>\n",
       "      <td>...</td>\n",
       "      <td>34.57337</td>\n",
       "      <td>-171.70734</td>\n",
       "      <td>-16.96705</td>\n",
       "      <td>-46.67617</td>\n",
       "      <td>-12.51516</td>\n",
       "      <td>82.58061</td>\n",
       "      <td>-72.08993</td>\n",
       "      <td>9.90558</td>\n",
       "      <td>199.62971</td>\n",
       "      <td>18.85382</td>\n",
       "    </tr>\n",
       "    <tr>\n",
       "      <th>4</th>\n",
       "      <td>2001</td>\n",
       "      <td>50.97020</td>\n",
       "      <td>42.20998</td>\n",
       "      <td>67.09964</td>\n",
       "      <td>8.46791</td>\n",
       "      <td>-15.85279</td>\n",
       "      <td>-16.81409</td>\n",
       "      <td>-12.48207</td>\n",
       "      <td>-9.37636</td>\n",
       "      <td>12.63699</td>\n",
       "      <td>...</td>\n",
       "      <td>9.92661</td>\n",
       "      <td>-55.95724</td>\n",
       "      <td>64.92712</td>\n",
       "      <td>-17.72522</td>\n",
       "      <td>-1.49237</td>\n",
       "      <td>-7.50035</td>\n",
       "      <td>51.76631</td>\n",
       "      <td>7.88713</td>\n",
       "      <td>55.66926</td>\n",
       "      <td>28.74903</td>\n",
       "    </tr>\n",
       "    <tr>\n",
       "      <th>...</th>\n",
       "      <td>...</td>\n",
       "      <td>...</td>\n",
       "      <td>...</td>\n",
       "      <td>...</td>\n",
       "      <td>...</td>\n",
       "      <td>...</td>\n",
       "      <td>...</td>\n",
       "      <td>...</td>\n",
       "      <td>...</td>\n",
       "      <td>...</td>\n",
       "      <td>...</td>\n",
       "      <td>...</td>\n",
       "      <td>...</td>\n",
       "      <td>...</td>\n",
       "      <td>...</td>\n",
       "      <td>...</td>\n",
       "      <td>...</td>\n",
       "      <td>...</td>\n",
       "      <td>...</td>\n",
       "      <td>...</td>\n",
       "      <td>...</td>\n",
       "    </tr>\n",
       "    <tr>\n",
       "      <th>515340</th>\n",
       "      <td>2006</td>\n",
       "      <td>51.28467</td>\n",
       "      <td>45.88068</td>\n",
       "      <td>22.19582</td>\n",
       "      <td>-5.53319</td>\n",
       "      <td>-3.61835</td>\n",
       "      <td>-16.36914</td>\n",
       "      <td>2.12652</td>\n",
       "      <td>5.18160</td>\n",
       "      <td>-8.66890</td>\n",
       "      <td>...</td>\n",
       "      <td>4.81440</td>\n",
       "      <td>-3.75991</td>\n",
       "      <td>-30.92584</td>\n",
       "      <td>26.33968</td>\n",
       "      <td>-5.03390</td>\n",
       "      <td>21.86037</td>\n",
       "      <td>-142.29410</td>\n",
       "      <td>3.42901</td>\n",
       "      <td>-41.14721</td>\n",
       "      <td>-15.46052</td>\n",
       "    </tr>\n",
       "    <tr>\n",
       "      <th>515341</th>\n",
       "      <td>2006</td>\n",
       "      <td>49.87870</td>\n",
       "      <td>37.93125</td>\n",
       "      <td>18.65987</td>\n",
       "      <td>-3.63581</td>\n",
       "      <td>-27.75665</td>\n",
       "      <td>-18.52988</td>\n",
       "      <td>7.76108</td>\n",
       "      <td>3.56109</td>\n",
       "      <td>-2.50351</td>\n",
       "      <td>...</td>\n",
       "      <td>32.38589</td>\n",
       "      <td>-32.75535</td>\n",
       "      <td>-61.05473</td>\n",
       "      <td>56.65182</td>\n",
       "      <td>15.29965</td>\n",
       "      <td>95.88193</td>\n",
       "      <td>-10.63242</td>\n",
       "      <td>12.96552</td>\n",
       "      <td>92.11633</td>\n",
       "      <td>10.88815</td>\n",
       "    </tr>\n",
       "    <tr>\n",
       "      <th>515342</th>\n",
       "      <td>2006</td>\n",
       "      <td>45.12852</td>\n",
       "      <td>12.65758</td>\n",
       "      <td>-38.72018</td>\n",
       "      <td>8.80882</td>\n",
       "      <td>-29.29985</td>\n",
       "      <td>-2.28706</td>\n",
       "      <td>-18.40424</td>\n",
       "      <td>-22.28726</td>\n",
       "      <td>-4.52429</td>\n",
       "      <td>...</td>\n",
       "      <td>-18.73598</td>\n",
       "      <td>-71.15954</td>\n",
       "      <td>-123.98443</td>\n",
       "      <td>121.26989</td>\n",
       "      <td>10.89629</td>\n",
       "      <td>34.62409</td>\n",
       "      <td>-248.61020</td>\n",
       "      <td>-6.07171</td>\n",
       "      <td>53.96319</td>\n",
       "      <td>-8.09364</td>\n",
       "    </tr>\n",
       "    <tr>\n",
       "      <th>515343</th>\n",
       "      <td>2006</td>\n",
       "      <td>44.16614</td>\n",
       "      <td>32.38368</td>\n",
       "      <td>-3.34971</td>\n",
       "      <td>-2.49165</td>\n",
       "      <td>-19.59278</td>\n",
       "      <td>-18.67098</td>\n",
       "      <td>8.78428</td>\n",
       "      <td>4.02039</td>\n",
       "      <td>-12.01230</td>\n",
       "      <td>...</td>\n",
       "      <td>67.16763</td>\n",
       "      <td>282.77624</td>\n",
       "      <td>-4.63677</td>\n",
       "      <td>144.00125</td>\n",
       "      <td>21.62652</td>\n",
       "      <td>-29.72432</td>\n",
       "      <td>71.47198</td>\n",
       "      <td>20.32240</td>\n",
       "      <td>14.83107</td>\n",
       "      <td>39.74909</td>\n",
       "    </tr>\n",
       "    <tr>\n",
       "      <th>515344</th>\n",
       "      <td>2005</td>\n",
       "      <td>51.85726</td>\n",
       "      <td>59.11655</td>\n",
       "      <td>26.39436</td>\n",
       "      <td>-5.46030</td>\n",
       "      <td>-20.69012</td>\n",
       "      <td>-19.95528</td>\n",
       "      <td>-6.72771</td>\n",
       "      <td>2.29590</td>\n",
       "      <td>10.31018</td>\n",
       "      <td>...</td>\n",
       "      <td>-11.50511</td>\n",
       "      <td>-69.18291</td>\n",
       "      <td>60.58456</td>\n",
       "      <td>28.64599</td>\n",
       "      <td>-4.39620</td>\n",
       "      <td>-64.56491</td>\n",
       "      <td>-45.61012</td>\n",
       "      <td>-5.51512</td>\n",
       "      <td>32.35602</td>\n",
       "      <td>12.17352</td>\n",
       "    </tr>\n",
       "  </tbody>\n",
       "</table>\n",
       "<p>515345 rows × 91 columns</p>\n",
       "</div>"
      ],
      "text/plain": [
       "          0         1         2         3         4         5         6   \\\n",
       "0       2001  49.94357  21.47114  73.07750   8.74861 -17.40628 -13.09905   \n",
       "1       2001  48.73215  18.42930  70.32679  12.94636 -10.32437 -24.83777   \n",
       "2       2001  50.95714  31.85602  55.81851  13.41693  -6.57898 -18.54940   \n",
       "3       2001  48.24750  -1.89837  36.29772   2.58776   0.97170 -26.21683   \n",
       "4       2001  50.97020  42.20998  67.09964   8.46791 -15.85279 -16.81409   \n",
       "...      ...       ...       ...       ...       ...       ...       ...   \n",
       "515340  2006  51.28467  45.88068  22.19582  -5.53319  -3.61835 -16.36914   \n",
       "515341  2006  49.87870  37.93125  18.65987  -3.63581 -27.75665 -18.52988   \n",
       "515342  2006  45.12852  12.65758 -38.72018   8.80882 -29.29985  -2.28706   \n",
       "515343  2006  44.16614  32.38368  -3.34971  -2.49165 -19.59278 -18.67098   \n",
       "515344  2005  51.85726  59.11655  26.39436  -5.46030 -20.69012 -19.95528   \n",
       "\n",
       "              7         8         9   ...        81         82         83  \\\n",
       "0      -25.01202 -12.23257   7.83089  ...  13.01620  -54.40548   58.99367   \n",
       "1        8.76630  -0.92019  18.76548  ...   5.66812  -19.68073   33.04964   \n",
       "2       -3.27872  -2.35035  16.07017  ...   3.03800   26.05866  -50.92779   \n",
       "3        5.05097 -10.34124   3.55005  ...  34.57337 -171.70734  -16.96705   \n",
       "4      -12.48207  -9.37636  12.63699  ...   9.92661  -55.95724   64.92712   \n",
       "...          ...       ...       ...  ...       ...        ...        ...   \n",
       "515340   2.12652   5.18160  -8.66890  ...   4.81440   -3.75991  -30.92584   \n",
       "515341   7.76108   3.56109  -2.50351  ...  32.38589  -32.75535  -61.05473   \n",
       "515342 -18.40424 -22.28726  -4.52429  ... -18.73598  -71.15954 -123.98443   \n",
       "515343   8.78428   4.02039 -12.01230  ...  67.16763  282.77624   -4.63677   \n",
       "515344  -6.72771   2.29590  10.31018  ... -11.50511  -69.18291   60.58456   \n",
       "\n",
       "               84        85        86         87        88         89  \\\n",
       "0        15.37344   1.11144 -23.08793   68.40795  -1.82223  -27.46348   \n",
       "1        42.87836  -9.90378 -32.22788   70.49388  12.04941   58.43453   \n",
       "2        10.93792  -0.07568  43.20130 -115.00698  -0.05859   39.67068   \n",
       "3       -46.67617 -12.51516  82.58061  -72.08993   9.90558  199.62971   \n",
       "4       -17.72522  -1.49237  -7.50035   51.76631   7.88713   55.66926   \n",
       "...           ...       ...       ...        ...       ...        ...   \n",
       "515340   26.33968  -5.03390  21.86037 -142.29410   3.42901  -41.14721   \n",
       "515341   56.65182  15.29965  95.88193  -10.63242  12.96552   92.11633   \n",
       "515342  121.26989  10.89629  34.62409 -248.61020  -6.07171   53.96319   \n",
       "515343  144.00125  21.62652 -29.72432   71.47198  20.32240   14.83107   \n",
       "515344   28.64599  -4.39620 -64.56491  -45.61012  -5.51512   32.35602   \n",
       "\n",
       "              90  \n",
       "0        2.26327  \n",
       "1       26.92061  \n",
       "2       -0.66345  \n",
       "3       18.85382  \n",
       "4       28.74903  \n",
       "...          ...  \n",
       "515340 -15.46052  \n",
       "515341  10.88815  \n",
       "515342  -8.09364  \n",
       "515343  39.74909  \n",
       "515344  12.17352  \n",
       "\n",
       "[515345 rows x 91 columns]"
      ]
     },
     "execution_count": 1,
     "metadata": {},
     "output_type": "execute_result"
    }
   ],
   "source": [
    "import pandas as pd\n",
    "import matplotlib.pyplot as plt\n",
    "\n",
    "data = pd.read_csv(r'YearPredictionMSD.txt',header=None)\n",
    "data"
   ]
  },
  {
   "cell_type": "code",
   "execution_count": 2,
   "id": "dfc98071",
   "metadata": {},
   "outputs": [
    {
     "data": {
      "text/html": [
       "<div>\n",
       "<style scoped>\n",
       "    .dataframe tbody tr th:only-of-type {\n",
       "        vertical-align: middle;\n",
       "    }\n",
       "\n",
       "    .dataframe tbody tr th {\n",
       "        vertical-align: top;\n",
       "    }\n",
       "\n",
       "    .dataframe thead th {\n",
       "        text-align: right;\n",
       "    }\n",
       "</style>\n",
       "<table border=\"1\" class=\"dataframe\">\n",
       "  <thead>\n",
       "    <tr style=\"text-align: right;\">\n",
       "      <th></th>\n",
       "      <th>0</th>\n",
       "    </tr>\n",
       "  </thead>\n",
       "  <tbody>\n",
       "    <tr>\n",
       "      <th>1</th>\n",
       "      <td>2001</td>\n",
       "    </tr>\n",
       "    <tr>\n",
       "      <th>2</th>\n",
       "      <td>2001</td>\n",
       "    </tr>\n",
       "    <tr>\n",
       "      <th>3</th>\n",
       "      <td>2001</td>\n",
       "    </tr>\n",
       "    <tr>\n",
       "      <th>4</th>\n",
       "      <td>2001</td>\n",
       "    </tr>\n",
       "    <tr>\n",
       "      <th>5</th>\n",
       "      <td>2001</td>\n",
       "    </tr>\n",
       "    <tr>\n",
       "      <th>...</th>\n",
       "      <td>...</td>\n",
       "    </tr>\n",
       "    <tr>\n",
       "      <th>515340</th>\n",
       "      <td>2006</td>\n",
       "    </tr>\n",
       "    <tr>\n",
       "      <th>515341</th>\n",
       "      <td>2006</td>\n",
       "    </tr>\n",
       "    <tr>\n",
       "      <th>515342</th>\n",
       "      <td>2006</td>\n",
       "    </tr>\n",
       "    <tr>\n",
       "      <th>515343</th>\n",
       "      <td>2006</td>\n",
       "    </tr>\n",
       "    <tr>\n",
       "      <th>515344</th>\n",
       "      <td>2005</td>\n",
       "    </tr>\n",
       "  </tbody>\n",
       "</table>\n",
       "<p>515344 rows × 1 columns</p>\n",
       "</div>"
      ],
      "text/plain": [
       "           0\n",
       "1       2001\n",
       "2       2001\n",
       "3       2001\n",
       "4       2001\n",
       "5       2001\n",
       "...      ...\n",
       "515340  2006\n",
       "515341  2006\n",
       "515342  2006\n",
       "515343  2006\n",
       "515344  2005\n",
       "\n",
       "[515344 rows x 1 columns]"
      ]
     },
     "execution_count": 2,
     "metadata": {},
     "output_type": "execute_result"
    }
   ],
   "source": [
    "audio_input = data.iloc[:, 1:91]\n",
    "audio_input\n",
    "\n",
    "audio_output = data.iloc[:,0:1]\n",
    "audio_output.drop(axis=0,index=0)"
   ]
  },
  {
   "cell_type": "code",
   "execution_count": 3,
   "id": "e45fcc4a",
   "metadata": {},
   "outputs": [
    {
     "data": {
      "text/plain": [
       "array([[ 3.04950981e-02,  1.31100865e-02,  4.46204694e-02, ...,\n",
       "        -1.11263738e-03, -1.67689558e-02,  1.38193246e-03],\n",
       "       [ 1.81912562e-02,  6.87948548e-03,  2.62523336e-02, ...,\n",
       "         4.49793216e-03,  2.18130640e-02,  1.00492122e-02],\n",
       "       [ 2.88243353e-02,  1.80196260e-02,  3.15742102e-02, ...,\n",
       "        -3.31419269e-05,  2.24400542e-02, -3.75286079e-04],\n",
       "       ...,\n",
       "       [ 7.44297825e-03,  2.08759544e-03, -6.38606047e-03, ...,\n",
       "        -1.00139791e-03,  8.90006695e-03, -1.33487175e-03],\n",
       "       [ 1.03585683e-02,  7.59515230e-03, -7.85628984e-04, ...,\n",
       "         4.76634289e-03,  3.47842603e-03,  9.32260917e-03],\n",
       "       [ 2.74000523e-02,  3.12356758e-02,  1.39461060e-02, ...,\n",
       "        -2.91404861e-03,  1.70960949e-02,  6.43217717e-03]])"
      ]
     },
     "execution_count": 3,
     "metadata": {},
     "output_type": "execute_result"
    }
   ],
   "source": [
    "from sklearn.preprocessing import Normalizer\n",
    "transform_audio=Normalizer().fit(audio_input)\n",
    "audio_input=transform_audio.transform(audio_input)\n",
    "audio_input"
   ]
  },
  {
   "cell_type": "code",
   "execution_count": 4,
   "id": "ea0aebca",
   "metadata": {},
   "outputs": [],
   "source": [
    "ind=[]\n",
    "\n",
    "values=audio_output.value_counts()\n",
    "for i in list(values.index):\n",
    "    ind.append(i[0])"
   ]
  },
  {
   "cell_type": "code",
   "execution_count": 5,
   "id": "5f47bc01",
   "metadata": {},
   "outputs": [
    {
     "data": {
      "text/plain": [
       "<BarContainer object of 89 artists>"
      ]
     },
     "execution_count": 5,
     "metadata": {},
     "output_type": "execute_result"
    },
    {
     "data": {
      "image/png": "[encoded data removed]",
      "text/plain": [
       "<Figure size 432x288 with 1 Axes>"
      ]
     },
     "metadata": {
      "needs_background": "light"
     },
     "output_type": "display_data"
    }
   ],
   "source": [
    "plt.bar(ind,values.values)"
   ]
  },
  {
   "cell_type": "code",
   "execution_count": 6,
   "id": "43d76d0f",
   "metadata": {},
   "outputs": [
    {
     "data": {
      "text/plain": [
       "array([[-0.1923099 ,  0.06533933],\n",
       "       [ 0.33158305, -0.08501844],\n",
       "       [-0.17998727,  0.0085316 ],\n",
       "       ...,\n",
       "       [-0.32234284, -0.01715418],\n",
       "       [ 0.11394497, -0.05168805],\n",
       "       [-0.27950106,  0.02618955]])"
      ]
     },
     "execution_count": 6,
     "metadata": {},
     "output_type": "execute_result"
    }
   ],
   "source": [
    "from sklearn.decomposition import PCA\n",
    "pca_data=PCA(n_components=2)\n",
    "accu=pca_data.fit_transform(audio_input)\n",
    "accu"
   ]
  },
  {
   "cell_type": "code",
   "execution_count": 7,
   "id": "ee381ba4",
   "metadata": {},
   "outputs": [],
   "source": [
    "from sklearn.model_selection import train_test_split\n",
    "accu_train, accu_test= accu[:463715], accu[463716:]\n",
    "accuOpt_train, accuOpt_test =audio_output[:463715],audio_output[463716:]"
   ]
  },
  {
   "cell_type": "code",
   "execution_count": 8,
   "id": "a10a2e86",
   "metadata": {},
   "outputs": [
    {
     "data": {
      "text/plain": [
       "array([[2001],\n",
       "       [2001],\n",
       "       [2001],\n",
       "       ...,\n",
       "       [2007],\n",
       "       [2006],\n",
       "       [2007]], dtype=int64)"
      ]
     },
     "execution_count": 8,
     "metadata": {},
     "output_type": "execute_result"
    }
   ],
   "source": [
    "import numpy as np\n",
    "accuOpt_train = accuOpt_train.to_numpy()\n",
    "accuOpt_train"
   ]
  },
  {
   "cell_type": "code",
   "execution_count": 9,
   "id": "b67cf819",
   "metadata": {},
   "outputs": [
    {
     "data": {
      "text/plain": [
       "463715"
      ]
     },
     "execution_count": 9,
     "metadata": {},
     "output_type": "execute_result"
    }
   ],
   "source": [
    "len(accuOpt_train)"
   ]
  },
  {
   "cell_type": "code",
   "execution_count": 10,
   "id": "bc9b0b84",
   "metadata": {},
   "outputs": [],
   "source": [
    "output=[]\n",
    "for i in range(len(accuOpt_train)):\n",
    "    output.append(accuOpt_train[i][0])"
   ]
  },
  {
   "cell_type": "code",
   "execution_count": 11,
   "id": "2ad643c4",
   "metadata": {},
   "outputs": [
    {
     "data": {
      "text/plain": [
       "KNeighborsClassifier(n_neighbors=159)"
      ]
     },
     "execution_count": 11,
     "metadata": {},
     "output_type": "execute_result"
    }
   ],
   "source": [
    "from sklearn.neighbors import KNeighborsClassifier\n",
    "neighbour = KNeighborsClassifier(n_neighbors=159)\n",
    "neighbour.fit(accu_train, output)"
   ]
  },
  {
   "cell_type": "code",
   "execution_count": 12,
   "id": "68fcfa54",
   "metadata": {},
   "outputs": [],
   "source": [
    "predict_neighbour=neighbour.predict(accu_test)"
   ]
  },
  {
   "cell_type": "code",
   "execution_count": 13,
   "id": "fd25b2cb",
   "metadata": {},
   "outputs": [
    {
     "name": "stdout",
     "output_type": "stream",
     "text": [
      "[2006 2005 2006 ... 2002 2006 2005]\n"
     ]
    }
   ],
   "source": [
    "print(predict_neighbour)"
   ]
  },
  {
   "cell_type": "code",
   "execution_count": 14,
   "id": "099e1d98",
   "metadata": {},
   "outputs": [],
   "source": [
    "accuOpt_test = accuOpt_test.to_numpy()\n",
    "actual=[]\n",
    "for i in range(len(accuOpt_test)):\n",
    "    actual.append(accuOpt_test[i][0])"
   ]
  },
  {
   "cell_type": "code",
   "execution_count": 15,
   "id": "2e9495d9",
   "metadata": {},
   "outputs": [],
   "source": [
    "from collections import defaultdict\n",
    "list1=[]\n",
    "final_dict=defaultdict(int)\n",
    "for i in range(len(predict_neighbour)):\n",
    "    diff=abs(int(predict_neighbour[i])-int(actual[i]))\n",
    "    final_dict[diff] +=1\n",
    "    if diff==0 or diff==1:\n",
    "        list1.append(predict_neighbour[i])"
   ]
  },
  {
   "cell_type": "code",
   "execution_count": 16,
   "id": "2e3d1ea4",
   "metadata": {},
   "outputs": [
    {
     "data": {
      "text/plain": [
       "<BarContainer object of 80 artists>"
      ]
     },
     "execution_count": 16,
     "metadata": {},
     "output_type": "execute_result"
    },
    {
     "data": {
      "image/png": "[encoded data removed]",
      "text/plain": [
       "<Figure size 432x288 with 1 Axes>"
      ]
     },
     "metadata": {
      "needs_background": "light"
     },
     "output_type": "display_data"
    }
   ],
   "source": [
    "import matplotlib.pyplot as  plt\n",
    "plt.bar(final_dict.keys(),final_dict.values())"
   ]
  },
  {
   "cell_type": "code",
   "execution_count": 17,
   "id": "da9a7c64",
   "metadata": {},
   "outputs": [
    {
     "name": "stdout",
     "output_type": "stream",
     "text": [
      "{0: 3454, 1: 6723, 2: 5891, 3: 5018, 4: 3771, 5: 2987, 6: 2436, 7: 2029, 8: 1844, 9: 1631, 10: 1537, 11: 1363, 12: 1231, 13: 1061, 14: 972, 15: 837, 16: 783, 17: 636, 18: 575, 19: 469, 20: 441, 21: 410, 22: 334, 23: 293, 24: 356, 25: 297, 26: 295, 27: 320, 28: 282, 29: 270, 30: 227, 31: 219, 32: 206, 33: 219, 34: 244, 35: 227, 36: 201, 37: 237, 38: 179, 39: 186, 40: 163, 41: 134, 42: 99, 43: 70, 44: 43, 45: 35, 46: 43, 47: 34, 48: 46, 49: 39, 50: 29, 51: 29, 52: 19, 53: 17, 54: 11, 55: 15, 56: 10, 57: 7, 58: 7, 59: 6, 60: 3, 61: 3, 62: 2, 63: 1, 64: 6, 65: 12, 66: 8, 67: 13, 68: 2, 69: 2, 70: 1, 71: 3, 72: 1, 73: 3, 74: 3, 75: 2, 76: 4, 77: 8, 78: 2, 79: 3}\n"
     ]
    }
   ],
   "source": [
    "final_dict=sorted(final_dict.items())\n",
    "print(dict(final_dict))"
   ]
  },
  {
   "cell_type": "code",
   "execution_count": 18,
   "id": "9b3c2bed",
   "metadata": {},
   "outputs": [
    {
     "data": {
      "text/plain": [
       "51629"
      ]
     },
     "execution_count": 18,
     "metadata": {},
     "output_type": "execute_result"
    }
   ],
   "source": [
    "len(actual)"
   ]
  },
  {
   "cell_type": "code",
   "execution_count": 19,
   "id": "336083f1",
   "metadata": {},
   "outputs": [
    {
     "name": "stdout",
     "output_type": "stream",
     "text": [
      "{1989, 1990, 1991, 1992, 1993, 1994, 1995, 1996, 1997, 1998, 1999, 2000, 2001, 2002, 2003, 2004, 2005, 2006, 2007, 2008, 2009}\n"
     ]
    }
   ],
   "source": [
    "print(set(predict_neighbour))"
   ]
  },
  {
   "cell_type": "code",
   "execution_count": 20,
   "id": "d170d625",
   "metadata": {},
   "outputs": [],
   "source": [
    "a1=[]\n",
    "p1=[]\n",
    "for i in range(len(actual)):\n",
    "    a1.append(actual[i]-(actual[i]%10))\n",
    "    p1.append(predict_neighbour[i]-(predict_neighbour[i]%10))"
   ]
  },
  {
   "cell_type": "code",
   "execution_count": 21,
   "id": "95be0a1c",
   "metadata": {},
   "outputs": [],
   "source": [
    "list1=[]\n",
    "final_dict1=defaultdict(int)\n",
    "for i in range(len(p1)):\n",
    "    diff=abs(int(p1[i])-int(a1[i]))\n",
    "    final_dict1[diff] +=1\n"
   ]
  },
  {
   "cell_type": "code",
   "execution_count": 22,
   "id": "9ace41cb",
   "metadata": {},
   "outputs": [
    {
     "data": {
      "text/plain": [
       "<BarContainer object of 9 artists>"
      ]
     },
     "execution_count": 22,
     "metadata": {},
     "output_type": "execute_result"
    },
    {
     "data": {
      "image/png": "[encoded data removed]",
      "text/plain": [
       "<Figure size 432x288 with 1 Axes>"
      ]
     },
     "metadata": {
      "needs_background": "light"
     },
     "output_type": "display_data"
    }
   ],
   "source": [
    "plt.bar(final_dict1.keys(),final_dict1.values())"
   ]
  },
  {
   "cell_type": "code",
   "execution_count": null,
   "id": "f3e8d3c2",
   "metadata": {},
   "outputs": [],
   "source": []
  },
  {
   "cell_type": "code",
   "execution_count": null,
   "id": "b327a08e",
   "metadata": {},
   "outputs": [],
   "source": []
  }
 ],
 "metadata": {
  "kernelspec": {
   "display_name": "Python 3 (ipykernel)",
   "language": "python",
   "name": "python3"
  },
  "language_info": {
   "codemirror_mode": {
    "name": "ipython",
    "version": 3
   },
   "file_extension": ".py",
   "mimetype": "text/x-python",
   "name": "python",
   "nbconvert_exporter": "python",
   "pygments_lexer": "ipython3",
   "version": "3.9.6"
  }
 },
 "nbformat": 4,
 "nbformat_minor": 5
}
